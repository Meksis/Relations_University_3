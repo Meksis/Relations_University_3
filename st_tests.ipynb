{
 "cells": [
  {
   "cell_type": "code",
   "execution_count": 2,
   "metadata": {},
   "outputs": [
    {
     "data": {
      "text/plain": [
       "DeltaGenerator(_root_container=0, _provided_cursor=None, _parent=None, _block_type=None, _form_data=None)"
      ]
     },
     "execution_count": 2,
     "metadata": {},
     "output_type": "execute_result"
    }
   ],
   "source": [
    "import pandas as pd\n",
    "import numpy as np\n",
    "import matplotlib.pyplot as plt\n",
    "import streamlit as st\n",
    "from datetime import date\n",
    "import plotly.express as px\n",
    "from PIL import Image\n",
    "\n",
    "st.set_page_config(page_title='ПВВК',page_icon=\":bar_chart\",layout=\"wide\")\n",
    "\n",
    "st.sidebar.header(\"Пожалуйста, фильтруйте здесь:\")\n",
    "\n",
    "if(st.sidebar.button(\"Соединение с БД\")):\n",
    "    st.text(\"Тут должна открыться настройка подключения к БД\")\n",
    "\n",
    "if(st.sidebar.button(\"Графы\")):\n",
    "    st.text(\"Открывается граф(рисунок)\")\n",
    "\n",
    "if(st.sidebar.button(\"Поиск\")):\n",
    "    st.text(\"Выходит поиск того что мы сделали(написали)\")\n",
    "\n",
    "text_field = st.sidebar.text_input(\"Текстовое поле\")\n",
    "if(st.sidebar.button('Submit')):\n",
    "    result = text_field.title()\n",
    "    st.success(result)\n",
    "\n",
    "spisok1 = st.sidebar.selectbox(\"Юр(физ).лица: \",['Юр.лица', 'Физ.лица'])\n",
    "spisok2 = st.sidebar.selectbox(\"Параметры: \",['ИНН', 'ОГРН'])\n",
    "spisok3 = st.sidebar.selectbox(\"Тип связи: \",['ТП1', 'ТП2'])\n",
    "spisok4 = st.sidebar.selectbox(\"Физ(юр).лица: \",['Юр.лица', 'Физ.лица'])\n",
    "spisok5 = st.sidebar.selectbox(\"Параметр: \",['ИНН', 'ОГРН'])\n",
    "\n",
    "Search_Depth = st.sidebar.text_input(\"Глубина поиска\")\n",
    "if(st.sidebar.button('Submite')):\n",
    "    result = Search_Depth.title()\n",
    "    st.success(result)\n",
    "\n",
    "if(st.sidebar.button(\"Поиcк\")):\n",
    "    st.text(\"Poisk\")\n",
    "\n",
    "if(st.sidebar.button(\"Проверка\")):\n",
    "    st.text(\"Proverka\")\n",
    "\n",
    "img = Image.open(\"HFLabs_logo_black.png\" )\n",
    "img = img.resize((500,100))\n",
    "st.image(img)\n",
    "\n",
    "\n",
    "#import base64\n",
    "#def get_base64(bin_file):\n",
    "#    with open(bin_file, 'rb') as f:\n",
    "#        data = f.read()\n",
    "#    return base64.b64encode(data).decode()\n",
    "#\n",
    "#def set_background(png_file):\n",
    "#    bin_str = get_base64(png_file)\n",
    "#    page_bg_img = '''\n",
    "#    <style>\n",
    "#    body {\n",
    "#    background-image: url(\"E:/Проект/Project_3_neo4j/logo.png\");\n",
    "#    background-size: cover;\n",
    "#    }\n",
    "#    </style>\n",
    "#    ''' % bin_str\n",
    "#    st.markdown(page_bg_img, unsafe_allow_html=True)\n",
    "#\n",
    "#set_background('./images/background.png')"
   ]
  }
 ],
 "metadata": {
  "kernelspec": {
   "display_name": "Python 3",
   "language": "python",
   "name": "python3"
  },
  "language_info": {
   "codemirror_mode": {
    "name": "ipython",
    "version": 3
   },
   "file_extension": ".py",
   "mimetype": "text/x-python",
   "name": "python",
   "nbconvert_exporter": "python",
   "pygments_lexer": "ipython3",
   "version": "3.10.8 (tags/v3.10.8:aaaf517, Oct 11 2022, 16:50:30) [MSC v.1933 64 bit (AMD64)]"
  },
  "orig_nbformat": 4,
  "vscode": {
   "interpreter": {
    "hash": "1ffdadc0d1415b19035eba2fd8fd9ccd276098cbb8bade42baf9c70e83fa5937"
   }
  }
 },
 "nbformat": 4,
 "nbformat_minor": 2
}
