{
 "cells": [
  {
   "cell_type": "code",
   "execution_count": 331,
   "metadata": {},
   "outputs": [],
   "source": [
    "from py2neo import Graph"
   ]
  },
  {
   "cell_type": "code",
   "execution_count": 332,
   "metadata": {},
   "outputs": [],
   "source": [
    "class BD_interact():\n",
    "    def __init__(self, protocol, ip_adress, port, bd_name, auth_name, auth_pass):\n",
    "        self.protocol = protocol\n",
    "        self.ip_adress = ip_adress\n",
    "        self.port = port\n",
    "        self.con_address = f'''{self.protocol}://{self.ip_adress}:{self.port}'''\n",
    "        # print(self.con_address)\n",
    "\n",
    "        self.bd_name = bd_name\n",
    "\n",
    "        self.auth_name = auth_name\n",
    "        self.auth_pass = auth_pass\n",
    "\n",
    "        self.BD_connect()\n",
    "    \n",
    "    def BD_connect(self):\n",
    "        try:\n",
    "            self.graph = Graph(self.con_address, auth = (self.auth_name, self.auth_pass), name = self.bd_name)\n",
    "            self.con_status = True\n",
    "\n",
    "        except:\n",
    "            self.con_status = False\n",
    "            \n",
    "        print('[ERROR] Connection wasn\\'t established! Try to use another port.' if not self.con_status else '[INFO] Connection established!')\n",
    "\n",
    "        return(self.con_status)\n",
    "\n",
    "    def BD_execute(self, query):\n",
    "        self.response = list(self.graph.run(query).to_table())\n",
    "\n",
    "        return(self.response)\n",
    "\n",
    "    def BD_conncetion_check(self):\n",
    "        return()"
   ]
  },
  {
   "cell_type": "code",
   "execution_count": 333,
   "metadata": {},
   "outputs": [
    {
     "name": "stdout",
     "output_type": "stream",
     "text": [
      "[INFO] Connection established!\n"
     ]
    }
   ],
   "source": [
    "bd_window = BD_interact('bolt', 'localhost', 11003, 'tests1', 'HF', '12345678')"
   ]
  },
  {
   "cell_type": "code",
   "execution_count": 334,
   "metadata": {},
   "outputs": [],
   "source": [
    "g = bd_window.BD_execute('match (n) return n limit 100;')"
   ]
  },
  {
   "cell_type": "code",
   "execution_count": 335,
   "metadata": {},
   "outputs": [
    {
     "name": "stdout",
     "output_type": "stream",
     "text": [
      "{'patronymic': 'Васильевич', 'actuality_date': '2002-12-24 00:00:00', 'gender': '0', 'hid_party': '599197504', 'surname': 'Кузьмин', 'inn': '0', 'name': 'Андрей'}\n",
      "{'patronymic': 'Иванович', 'actuality_date': '2004-02-05 00:00:00', 'gender': '0', 'hid_party': '599197505', 'surname': 'Лобкин', 'inn': '0', 'name': 'Виктор'}\n",
      "{'patronymic': '-', 'actuality_date': '2015-03-31 00:00:00', 'gender': '0', 'hid_party': '468352025', 'surname': 'Мартин Бандерас', 'inn': '0', 'name': 'Франциско Хавьер'}\n",
      "{'patronymic': 'Алексеевич', 'actuality_date': '2010-12-20 00:00:00', 'gender': '0', 'hid_party': '599197506', 'surname': 'Романов', 'inn': '0', 'name': 'Владимир'}\n",
      "{'patronymic': 'Викторовна', 'actuality_date': '2010-11-12 00:00:00', 'gender': '1', 'hid_party': '599197507', 'surname': 'Паночевных', 'name': 'Елена', 'inn': '0'}\n",
      "{'patronymic': 'Леонидович', 'actuality_date': '2005-05-05 00:00:00', 'gender': '0', 'hid_party': '599197508', 'surname': 'Никитин', 'inn': '0', 'name': 'Виталий'}\n",
      "{'patronymic': 'Геннадьевна', 'actuality_date': '2013-08-05 00:00:00', 'gender': '1', 'hid_party': '599197509', 'surname': 'Карапетьянц', 'name': 'Юлия', 'inn': '0'}\n",
      "{'patronymic': 'Демьянович', 'actuality_date': '2003-08-04 00:00:00', 'gender': '0', 'hid_party': '599197510', 'surname': 'Глуховский', 'name': 'Алексей', 'inn': '0'}\n",
      "{'patronymic': 'Иванович', 'actuality_date': '2008-08-14 00:00:00', 'gender': '0', 'hid_party': '599197511', 'surname': 'Широков', 'inn': '0', 'name': 'Сергей'}\n",
      "{'patronymic': 'Георгиевна', 'actuality_date': '2009-01-12 00:00:00', 'gender': '1', 'hid_party': '599197513', 'surname': 'Снигур', 'inn': '0', 'name': 'Галина'}\n",
      "{'patronymic': 'Валентинович', 'actuality_date': '2010-06-03 00:00:00', 'gender': '0', 'hid_party': '599197512', 'surname': 'Капустин', 'inn': '0', 'name': 'Дмитрий'}\n",
      "{'patronymic': '-', 'actuality_date': '2003-02-04 00:00:00', 'gender': '0', 'hid_party': '599197515', 'surname': 'Соколовский', 'name': 'Семен', 'inn': '0'}\n",
      "{'patronymic': '-', 'actuality_date': '2010-05-17 00:00:00', 'gender': '0', 'hid_party': '599197516', 'surname': 'Хусак', 'name': 'Мирослав', 'inn': '0'}\n",
      "{'patronymic': 'Николаевна', 'actuality_date': '2017-12-13 00:00:00', 'gender': '1', 'hid_party': '599197517', 'surname': 'Иванова', 'inn': '0', 'name': 'Людмила'}\n",
      "{'patronymic': 'Бельдимандо', 'actuality_date': '2017-07-19 00:00:00', 'gender': '0', 'hid_party': '599197518', 'surname': 'Гогия', 'name': 'Спартак', 'inn': '0'}\n",
      "{'patronymic': 'Геннадьевич', 'actuality_date': '2005-04-06 00:00:00', 'gender': '0', 'hid_party': '428512588', 'surname': 'Рассохин', 'inn': '0', 'name': 'Юрий'}\n",
      "{'patronymic': 'Иннокентьевна', 'actuality_date': '2019-10-24 00:00:00', 'gender': '1', 'hid_party': '428515162', 'surname': 'Банташ', 'name': 'Валентина', 'inn': '253697022803'}\n",
      "{'patronymic': 'Юрьевна', 'actuality_date': '2019-10-24 00:00:00', 'gender': '1', 'hid_party': '428515165', 'surname': 'Рябова', 'name': 'Наталья', 'inn': '666102772107'}\n",
      "{'patronymic': 'Витальевна', 'actuality_date': '2021-12-28 00:00:00', 'gender': '1', 'hid_party': '428512595', 'surname': 'Кравец', 'name': 'Татьяна', 'inn': '920356259740'}\n",
      "{'patronymic': 'Алексеевич', 'actuality_date': '2019-10-22 00:00:00', 'gender': '0', 'hid_party': '428512590', 'surname': 'Щербак', 'name': 'Алексей', 'inn': '253607811041'}\n",
      "{'patronymic': 'Лазаревна', 'actuality_date': '2019-10-23 00:00:00', 'gender': '1', 'hid_party': '428512609', 'surname': 'Кайханиди', 'inn': '507402188824', 'name': 'Ирина'}\n",
      "{'patronymic': 'Николаевич', 'actuality_date': '2004-10-18 00:00:00', 'gender': '0', 'hid_party': '428512608', 'surname': 'Глухов', 'inn': '0', 'name': 'Александр'}\n",
      "{'patronymic': 'Владимирович', 'actuality_date': '2019-10-22 00:00:00', 'gender': '0', 'hid_party': '428512622', 'surname': 'Шиян', 'inn': '290223438506', 'name': 'Павел'}\n",
      "{'patronymic': 'Ралинович', 'actuality_date': '2018-04-11 00:00:00', 'gender': '0', 'hid_party': '428512650', 'surname': 'Гарифуллин', 'name': 'Газинур', 'inn': '23501951809'}\n",
      "{'patronymic': 'Сибагатович', 'actuality_date': '2018-04-11 00:00:00', 'gender': '0', 'hid_party': '428512654', 'surname': 'Сукбаев', 'inn': '26306719572', 'name': 'Раис'}\n",
      "{'patronymic': 'Александрович', 'actuality_date': '2016-01-11 00:00:00', 'gender': '0', 'hid_party': '428512656', 'surname': 'Болуков', 'name': 'Сергей', 'inn': '525009693108'}\n",
      "{'patronymic': 'Дамирович', 'actuality_date': '2019-10-25 00:00:00', 'gender': '0', 'hid_party': '428512665', 'surname': 'Казиханов', 'inn': '165106436943', 'name': 'Ринат'}\n",
      "{'patronymic': 'Сергеевич', 'actuality_date': '2019-10-25 00:00:00', 'gender': '0', 'hid_party': '428512666', 'surname': 'Ефименко', 'name': 'Евгений', 'inn': '611804030842'}\n",
      "{'patronymic': 'Александрович', 'actuality_date': '2018-09-14 00:00:00', 'gender': '0', 'hid_party': '428512675', 'surname': 'Золотарев', 'name': 'Михаил', 'inn': '503230133830'}\n",
      "{'patronymic': '-', 'actuality_date': '2006-06-13 00:00:00', 'gender': '0', 'hid_party': '599197525', 'surname': 'Эренел', 'name': 'Хамит Левент', 'inn': '0'}\n",
      "{'patronymic': '-', 'actuality_date': '2019-10-25 00:00:00', 'gender': '0', 'hid_party': '428512697', 'surname': 'Ян', 'name': 'Биндун', 'inn': '790108551017'}\n",
      "{'patronymic': 'Шакировна', 'actuality_date': '2008-02-20 00:00:00', 'gender': '1', 'hid_party': '428512698', 'surname': 'Явгильдина', 'name': 'Альмира', 'inn': '23500343131'}\n",
      "{'patronymic': 'Сергеевич', 'actuality_date': '2019-10-25 00:00:00', 'gender': '0', 'hid_party': '428512707', 'surname': 'Ковалев', 'name': 'Максим', 'inn': '504906284426'}\n",
      "{'patronymic': 'Васильевич', 'actuality_date': '2019-10-25 00:00:00', 'gender': '0', 'hid_party': '428512716', 'surname': 'Бортулев', 'name': 'Андрей', 'inn': '720403759280'}\n",
      "{'patronymic': 'Александрович', 'actuality_date': '2019-10-30 00:00:00', 'gender': '0', 'hid_party': '428512723', 'surname': 'Бычковский', 'name': 'Максим', 'inn': '771976686250'}\n",
      "{'patronymic': 'Ивановна', 'actuality_date': '2019-10-22 00:00:00', 'gender': '1', 'hid_party': '428512724', 'surname': 'Камынина', 'name': 'Валентина', 'inn': '362500310018'}\n",
      "{'patronymic': 'Николаевич', 'actuality_date': '2022-01-04 00:00:00', 'gender': '0', 'hid_party': '428512725', 'surname': 'Павлов', 'name': 'Валерий', 'inn': '615433553590'}\n",
      "{'patronymic': 'Анатольевич', 'actuality_date': '2021-08-20 00:00:00', 'gender': '0', 'hid_party': '428512738', 'surname': 'Акульшин', 'inn': '462900743040', 'name': 'Юрий'}\n",
      "{'patronymic': 'Владимировна', 'actuality_date': '2019-10-25 00:00:00', 'gender': '1', 'hid_party': '428512741', 'surname': 'Коршунова', 'name': 'Наталия', 'inn': '665802603511'}\n",
      "{'patronymic': 'Алексеевич', 'actuality_date': '2014-03-03 00:00:00', 'gender': '0', 'hid_party': '599197528', 'surname': 'Кавокин', 'inn': '0', 'name': 'Олег'}\n",
      "{'patronymic': 'Вячеславовна', 'actuality_date': '2019-10-22 00:00:00', 'gender': '1', 'hid_party': '428512746', 'surname': 'Якимова', 'name': 'Наталия', 'inn': '773105898983'}\n",
      "{'patronymic': 'Сергеевич', 'actuality_date': '2004-08-18 00:00:00', 'gender': '0', 'hid_party': '599197529', 'surname': 'Петин', 'name': 'Иван', 'inn': '0'}\n",
      "{'patronymic': 'Павловна', 'actuality_date': '2019-10-23 00:00:00', 'gender': '1', 'hid_party': '428512760', 'surname': 'Шабанова', 'name': 'Галина', 'inn': '470304007980'}\n",
      "{'patronymic': 'Андреевич', 'actuality_date': '2019-10-23 00:00:00', 'gender': '0', 'hid_party': '428512761', 'surname': 'Щербань', 'name': 'Никита', 'inn': '614404988604'}\n",
      "{'patronymic': 'Николаевич', 'actuality_date': '2019-12-03 00:00:00', 'gender': '0', 'hid_party': '428512766', 'surname': 'Ким', 'inn': '253101805886', 'name': 'Игорь'}\n",
      "{'patronymic': 'Габлатиповна', 'actuality_date': '2008-02-20 00:00:00', 'gender': '1', 'hid_party': '428512774', 'surname': 'Янбердина', 'inn': '23500294653', 'name': 'Рита'}\n",
      "{'patronymic': 'Александрович', 'actuality_date': '2006-07-31 00:00:00', 'gender': '0', 'hid_party': '428512776', 'surname': 'Юрк', 'name': 'Владимир', 'inn': '370402511865'}\n",
      "{'patronymic': 'Петрович', 'actuality_date': '2019-10-25 00:00:00', 'gender': '0', 'hid_party': '428512797', 'surname': 'Синев', 'inn': '782001908487', 'name': 'Иван'}\n",
      "{'patronymic': 'Асхатовна', 'actuality_date': '2019-10-22 00:00:00', 'gender': '1', 'hid_party': '428512781', 'surname': 'Сагатова', 'inn': '0', 'name': 'Асель'}\n",
      "{'patronymic': 'Валерьевич', 'actuality_date': '2019-11-13 00:00:00', 'gender': '0', 'hid_party': '428512782', 'surname': 'Чугин', 'name': 'Евгений', 'inn': '250816956493'}\n",
      "{'patronymic': 'Михайлович', 'actuality_date': '2017-11-20 00:00:00', 'gender': '0', 'hid_party': '428512787', 'surname': 'Кремнев', 'name': 'Сергей', 'inn': '643900745613'}\n",
      "{'patronymic': '-', 'actuality_date': '2020-03-23 00:00:00', 'gender': '0', 'hid_party': '468344574', 'surname': 'Чжан', 'name': 'Чжиминь', 'inn': '0'}\n",
      "{'patronymic': '-', 'actuality_date': '2019-10-25 00:00:00', 'gender': '0', 'hid_party': '428512816', 'surname': 'Ван', 'inn': '502744213168', 'name': 'Ин'}\n",
      "{'patronymic': 'Леоновна', 'actuality_date': '2021-12-23 00:00:00', 'gender': '1', 'hid_party': '468755648', 'surname': 'Колошьян', 'name': 'Светлана', 'inn': '771804772919'}\n",
      "{'patronymic': 'Иванович', 'actuality_date': '2019-10-24 00:00:00', 'gender': '0', 'hid_party': '428512846', 'surname': 'Мязин', 'name': 'Сергей', 'inn': '482300357381'}\n",
      "{'patronymic': 'Сергеевна', 'actuality_date': '2019-10-24 00:00:00', 'gender': '1', 'hid_party': '428512857', 'surname': 'Новицкая', 'inn': '561011503401', 'name': 'Ольга'}\n",
      "{'patronymic': 'Григорьевич', 'actuality_date': '2019-10-24 00:00:00', 'gender': '0', 'hid_party': '428512869', 'surname': 'Баранник', 'name': 'Александр', 'inn': '231800243023'}\n",
      "{'patronymic': 'Евгеньевна', 'actuality_date': '2021-04-07 00:00:00', 'gender': '1', 'hid_party': '428512882', 'surname': 'Музипова', 'name': 'Елизавета', 'inn': '772879340467'}\n",
      "{'patronymic': 'Разимовна', 'actuality_date': '2019-11-11 00:00:00', 'gender': '1', 'hid_party': '428512891', 'surname': 'Франчук', 'name': 'Тамила', 'inn': '860232863977'}\n",
      "{'patronymic': 'Тарасович', 'actuality_date': '2020-02-13 00:00:00', 'gender': '0', 'hid_party': '428512888', 'surname': 'Кравченко', 'name': 'Владислав', 'inn': '510904053165'}\n",
      "{'patronymic': 'Иванович', 'actuality_date': '2019-10-23 00:00:00', 'gender': '0', 'hid_party': '428512914', 'surname': 'Башарин', 'name': 'Алексей', 'inn': '591705629827'}\n",
      "{'patronymic': 'Евгеньевна', 'actuality_date': '2014-03-07 00:00:00', 'gender': '1', 'hid_party': '428512908', 'surname': 'Шукарева', 'name': 'Марина', 'inn': '772903466791'}\n",
      "{'patronymic': 'Александрович', 'actuality_date': '2019-10-25 00:00:00', 'gender': '0', 'hid_party': '428512909', 'surname': 'Цедилин', 'inn': '620701795474', 'name': 'Илья'}\n",
      "{'patronymic': 'Юрьевна', 'actuality_date': '2019-10-22 00:00:00', 'gender': '1', 'hid_party': '428512912', 'surname': 'Тухватулина', 'name': 'Алёна', 'inn': '420538322591'}\n",
      "{'patronymic': 'Валерьевна', 'actuality_date': '2022-03-29 00:00:00', 'gender': '1', 'hid_party': '428512920', 'surname': 'Власова', 'inn': '700901029220', 'name': 'Ирина'}\n",
      "{'patronymic': 'Николаевна', 'actuality_date': '2021-06-25 00:00:00', 'gender': '1', 'hid_party': '428512931', 'surname': 'Максимова', 'inn': '616400330825', 'name': 'Ольга'}\n",
      "{'patronymic': 'Владимирович', 'actuality_date': '2019-10-25 00:00:00', 'gender': '0', 'hid_party': '428512932', 'surname': 'Еловиков', 'name': 'Александр', 'inn': '594806203773'}\n",
      "{'patronymic': 'Викентьевич', 'actuality_date': '2009-09-29 00:00:00', 'gender': '0', 'hid_party': '428512937', 'surname': 'Пинаев', 'name': 'Валерий', 'inn': '772502662407'}\n",
      "{'patronymic': 'Николаевич', 'actuality_date': '2018-05-07 00:00:00', 'gender': '0', 'hid_party': '599197545', 'surname': 'Баранов', 'inn': '0', 'name': 'Максим'}\n",
      "{'patronymic': 'Дмитриевич', 'actuality_date': '2018-04-12 00:00:00', 'gender': '0', 'hid_party': '428512948', 'surname': 'Калагин', 'name': 'Дмитрий', 'inn': '772828622079'}\n",
      "{'patronymic': 'Иванович', 'actuality_date': '2005-12-21 00:00:00', 'gender': '0', 'hid_party': '599197556', 'surname': 'Селиверстов', 'name': 'Владимир', 'inn': '0'}\n",
      "{'patronymic': 'Иванович', 'actuality_date': '2019-10-25 00:00:00', 'gender': '0', 'hid_party': '428512977', 'surname': 'Авксентьев', 'name': 'Дмитрий', 'inn': '141701402491'}\n",
      "{'patronymic': 'Анатольевич', 'actuality_date': '2019-10-25 00:00:00', 'gender': '0', 'hid_party': '428512990', 'surname': 'Чупятов', 'name': 'Михаил', 'inn': '773382971339'}\n",
      "{'patronymic': 'Валерьевич', 'actuality_date': '2021-06-15 00:00:00', 'gender': '0', 'hid_party': '428512993', 'surname': 'Манвелов', 'inn': '770700404387', 'name': 'Иван'}\n",
      "{'patronymic': 'Александрович', 'actuality_date': '2007-02-20 00:00:00', 'gender': '0', 'hid_party': '546329814', 'surname': 'Девицкий', 'inn': '0', 'name': 'Александр'}\n",
      "{'patronymic': '-', 'actuality_date': '2019-04-10 00:00:00', 'gender': '0', 'hid_party': '468341002', 'surname': 'Бираги', 'name': 'Фабио Паоло', 'inn': '0'}\n",
      "{'patronymic': 'Анатольевна', 'actuality_date': '2005-07-22 00:00:00', 'gender': '1', 'hid_party': '445483502', 'surname': 'Гусева', 'inn': '343516932239', 'name': 'Елена'}\n",
      "{'patronymic': 'А', 'actuality_date': '2009-02-14 00:00:00', 'gender': '1', 'hid_party': '527662717', 'surname': 'Колотыгина Наталья Анатол', 'inn': '0', 'name': 'Н'}\n",
      "{'patronymic': 'Юрьевич', 'actuality_date': '2021-06-30 00:00:00', 'gender': '0', 'hid_party': '468340931', 'surname': 'Копестеринский', 'name': 'Владимир', 'inn': '772321608694'}\n",
      "{'patronymic': 'Амирхан Оглы', 'actuality_date': '2012-07-12 00:00:00', 'gender': '0', 'hid_party': '433193580', 'surname': 'Мурадов', 'inn': '0', 'name': 'Хилгат'}\n",
      "{'patronymic': 'Андреевич', 'actuality_date': '2008-10-18 00:00:00', 'gender': '0', 'hid_party': '449620725', 'surname': 'Мельничук', 'inn': '0', 'name': 'Сергей'}\n",
      "{'patronymic': 'Евгеньевич', 'actuality_date': '2015-07-15 00:00:00', 'gender': '0', 'hid_party': '434700636', 'surname': 'Павлов', 'name': 'Максим', 'inn': '143524276480'}\n",
      "{'patronymic': 'Ивановна', 'actuality_date': '2015-03-12 00:00:00', 'gender': '1', 'hid_party': '434700637', 'surname': 'Вьюнова', 'inn': '56000862704', 'name': 'Елена'}\n",
      "{'patronymic': 'Владимирович', 'actuality_date': '2006-08-25 00:00:00', 'gender': '0', 'hid_party': '452150615', 'surname': 'Борисов', 'inn': '0', 'name': 'Денис'}\n",
      "{'patronymic': 'Георгиевич', 'actuality_date': '2004-10-05 00:00:00', 'gender': '0', 'hid_party': '451119043', 'surname': 'Медведев', 'inn': '0', 'name': 'Андрей'}\n",
      "{'patronymic': 'Сергеевич', 'actuality_date': '2011-09-02 00:00:00', 'gender': '0', 'hid_party': '434700638', 'surname': 'Калинин', 'name': 'Максим', 'inn': '662313586504'}\n",
      "{'patronymic': 'Реза', 'actuality_date': '2018-10-05 00:00:00', 'gender': '0', 'hid_party': '450670766', 'surname': 'Басириан Махабади', 'name': 'Амирали', 'inn': '0'}\n",
      "{'patronymic': 'Юрьевна', 'actuality_date': '2014-12-11 00:00:00', 'gender': '1', 'hid_party': '434700659', 'surname': 'Позднякова', 'name': 'Виктория', 'inn': '910224802474'}\n",
      "{'patronymic': 'Анатольевна', 'actuality_date': '2011-03-24 00:00:00', 'gender': '1', 'hid_party': '434700660', 'surname': 'Меркулова', 'inn': '711300713200', 'name': 'Ольга'}\n",
      "{'patronymic': 'Кириллович', 'actuality_date': '2006-09-20 00:00:00', 'gender': '0', 'hid_party': '446833209', 'surname': 'Агейкин', 'inn': '0', 'name': 'Александр'}\n",
      "{'patronymic': 'Александрович', 'actuality_date': '2008-04-23 00:00:00', 'gender': '0', 'hid_party': '546371761', 'surname': 'Гостенков', 'inn': '0', 'name': 'Владимир'}\n",
      "{'patronymic': 'Юрьевна', 'actuality_date': '2011-04-08 00:00:00', 'gender': '1', 'hid_party': '434700662', 'surname': 'Меркушева', 'name': 'Татьяна', 'inn': '183503063310'}\n",
      "{'patronymic': 'Евгеньевич', 'actuality_date': '2009-09-01 00:00:00', 'gender': '0', 'hid_party': '439960529', 'surname': 'Высочинский', 'name': 'Валерий', 'inn': '0'}\n",
      "{'patronymic': 'Робертович', 'actuality_date': '2013-11-11 00:00:00', 'gender': '0', 'hid_party': '522457871', 'surname': 'Катунян', 'name': 'Вазген', 'inn': '665801343892'}\n",
      "{'patronymic': 'Викторович', 'actuality_date': '2006-07-20 00:00:00', 'gender': '0', 'hid_party': '554113254', 'surname': 'Шевченко', 'name': 'Валентин', 'inn': '244314101858'}\n",
      "{'patronymic': '-', 'actuality_date': '2010-01-15 00:00:00', 'gender': '0', 'hid_party': '445480820', 'surname': 'Браун', 'name': 'Рудольф', 'inn': '0'}\n",
      "{'patronymic': 'Юрьевич', 'actuality_date': '2007-10-16 00:00:00', 'gender': '0', 'hid_party': '448377634', 'surname': 'Колганов', 'inn': '0', 'name': 'Валерий'}\n",
      "{'patronymic': 'Александрович', 'actuality_date': '2002-12-11 00:00:00', 'gender': '0', 'hid_party': '599198936', 'surname': 'Бороздин', 'inn': '0', 'name': 'Сергей'}\n",
      "{'patronymic': 'Анатольевич', 'actuality_date': '2011-03-11 00:00:00', 'gender': '0', 'hid_party': '434700608', 'surname': 'Лихачев', 'name': 'Сергей', 'inn': '110304054688'}\n",
      "{'patronymic': 'Константиновна', 'actuality_date': '2003-09-04 00:00:00', 'gender': '1', 'hid_party': '546453948', 'surname': 'Пашенцева', 'inn': '0', 'name': 'Маргарита'}\n"
     ]
    }
   ],
   "source": [
    "for counter in range(len(g)):\n",
    "    print(dict(g[counter][0]))"
   ]
  },
  {
   "cell_type": "code",
   "execution_count": 342,
   "metadata": {},
   "outputs": [],
   "source": [
    "first_face = 'Юр. лицо'\n",
    "second_face = 'Физ. лицо'\n",
    "\n",
    "first_params = {'inn' : '7452022281', 'ogrn' : '1027403774507'}\n",
    "second_params = {'inn' : '741500840011'}\n",
    "\n",
    "relation_type = 'Учреждено'\n",
    "\n",
    "search_depth = 1\n",
    "\n",
    "first_params_append = '{' + f'''{', '.join([key + ' : ' + f'\"{str(first_params[key])}\"' for key in first_params])}''' + '}'\n",
    "second_params_append = '{' + f'''{', '.join([key + ' : ' + f'\"{str(second_params[key])}\"' for key in second_params])}''' + '}'\n",
    "\n",
    "# print(first_params_append, second_params_append)\n",
    "query = f'''match (first : {'Legal_Entity' if first_face == 'Юр. лицо' else 'Natural_Person'} {first_params_append}) - [{f'relation : `{relation_type}`' if relation_type != '' else ''}{f' *0..{search_depth}' if search_depth else ''} ] -> (second : {'Legal_Entity' if second_face == 'Юр. лицо' else 'Natural_Person'} {second_params_append}) return first, second'''\n",
    "#query"
   ]
  },
  {
   "cell_type": "code",
   "execution_count": 343,
   "metadata": {},
   "outputs": [],
   "source": [
    "response = bd_window.BD_execute(query)[0]\n",
    "\n",
    "response_first = dict(response[0])\n",
    "response_second = dict(response[1])"
   ]
  },
  {
   "cell_type": "code",
   "execution_count": 344,
   "metadata": {},
   "outputs": [
    {
     "name": "stdout",
     "output_type": "stream",
     "text": [
      "{'activity_status_code': '0', 'okogu_name': 'Организации, учрежденные юридическими лицами или гражданами, или юридическими лицами и гражданами совместно', 'foreign_employee_count': '-', 'okato_name': 'Калининский', 'branch_count': '0', 'oktmo_code': '75701310000', 'okopf': '12300', 'tax_system': '0.0', 'okfs_name': 'Частная собственность', 'ogrn_date': '2002-12-12 00:00:00', 'actuality_date': '2022-09-21 00:00:00', 'branch_type': 'MAIN', 'residency_country': '643', 'ogrn': '1027403774507', 'change_status_date': '-', 'okato_code': '75401364000.0', 'hid_party': '156892238', 'inn': '7452022281', 'oktmo_name': '-', 'last_activity_date': '2022-09-16 00:00:00', 'kpp': '744701001', 'okogu_code': '4210014', 'okpo': '42492276', 'okfs_code': '16.0', 'registration_date': '1996-08-26 00:00:00', 'foreign_tax_code': '-', 'full_name': 'ОБЩЕСТВО С ОГРАНИЧЕННОЙ ОТВЕТСТВЕННОСТЬЮ \"ВАЛЕНТИНА А+А\"', 'short_name': 'ООО \"ВАЛЕНТИНА А+А\"', 'foreign_registration_number': '-', 'capital_value': '21629000.0', 'capital_type': 'УСТАВНЫЙ КАПИТАЛ', 'activity_status': '1'}\n"
     ]
    }
   ],
   "source": [
    "print(response_first)"
   ]
  },
  {
   "cell_type": "code",
   "execution_count": 345,
   "metadata": {},
   "outputs": [
    {
     "name": "stdout",
     "output_type": "stream",
     "text": [
      "Компания \"ООО \"ВАЛЕНТИНА А+А\"\" связана с лицом Зинченко Евгений Алексеевич типом связи \"Учреждено\"\n"
     ]
    }
   ],
   "source": [
    "print(f'''Компания \"{response_first['short_name']}\" связана с лицом {' '.join([response_second['surname'], response_second['name'], response_second['patronymic']])} типом связи \"{relation_type}\"''')"
   ]
  }
 ],
 "metadata": {
  "kernelspec": {
   "display_name": "Python 3",
   "language": "python",
   "name": "python3"
  },
  "language_info": {
   "codemirror_mode": {
    "name": "ipython",
    "version": 3
   },
   "file_extension": ".py",
   "mimetype": "text/x-python",
   "name": "python",
   "nbconvert_exporter": "python",
   "pygments_lexer": "ipython3",
   "version": "3.10.8 (tags/v3.10.8:aaaf517, Oct 11 2022, 16:50:30) [MSC v.1933 64 bit (AMD64)]"
  },
  "orig_nbformat": 4,
  "vscode": {
   "interpreter": {
    "hash": "1ffdadc0d1415b19035eba2fd8fd9ccd276098cbb8bade42baf9c70e83fa5937"
   }
  }
 },
 "nbformat": 4,
 "nbformat_minor": 2
}
